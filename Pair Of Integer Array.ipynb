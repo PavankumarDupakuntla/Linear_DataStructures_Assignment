{
 "cells": [
  {
   "cell_type": "code",
   "execution_count": 2,
   "id": "30765215",
   "metadata": {},
   "outputs": [
    {
     "name": "stdout",
     "output_type": "stream",
     "text": [
      "(5,5)\n",
      "(6,4)\n",
      "(7,3)\n",
      "(8,2)\n",
      "(9,1)\n"
     ]
    }
   ],
   "source": [
    "def sum_pairs(array , num , sum):\n",
    "    for i in range(num):\n",
    "        for j in range(i+1 , num):\n",
    "            if array[i] + array[j] == sum:\n",
    "                print(\"(\",array[i],\",\",array[j],\")\",sep = \"\")\n",
    "            \n",
    "array = [5,6,4,5,7,3,8,2,9,1]\n",
    "num = len(array)\n",
    "sum = 10\n",
    "sum_pairs(array, num, sum)"
   ]
  },
  {
   "cell_type": "code",
   "execution_count": null,
   "id": "b5c8aaf0",
   "metadata": {},
   "outputs": [],
   "source": []
  }
 ],
 "metadata": {
  "kernelspec": {
   "display_name": "Python 3 (ipykernel)",
   "language": "python",
   "name": "python3"
  },
  "language_info": {
   "codemirror_mode": {
    "name": "ipython",
    "version": 3
   },
   "file_extension": ".py",
   "mimetype": "text/x-python",
   "name": "python",
   "nbconvert_exporter": "python",
   "pygments_lexer": "ipython3",
   "version": "3.9.7"
  }
 },
 "nbformat": 4,
 "nbformat_minor": 5
}
