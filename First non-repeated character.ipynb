{
 "cells": [
  {
   "cell_type": "code",
   "execution_count": 3,
   "id": "33dc3828",
   "metadata": {},
   "outputs": [
    {
     "name": "stdout",
     "output_type": "stream",
     "text": [
      "First non-repeating character is:  D\n"
     ]
    }
   ],
   "source": [
    "s = \"DataStructuresclass\"\n",
    "while s != \"\":\n",
    "   slen0 = len(s)\n",
    "   ch = s[0]\n",
    "   s = s.replace(ch, \"\")\n",
    "   slen1 = len(s)\n",
    "   if slen1 == slen0-1:\n",
    "      print (\"First non-repeating character is: \",ch)\n",
    "      break;\n",
    "   else:\n",
    "       print (\"No Unique Character Found!\")"
   ]
  },
  {
   "cell_type": "code",
   "execution_count": null,
   "id": "5ed25841",
   "metadata": {},
   "outputs": [],
   "source": []
  }
 ],
 "metadata": {
  "kernelspec": {
   "display_name": "Python 3 (ipykernel)",
   "language": "python",
   "name": "python3"
  },
  "language_info": {
   "codemirror_mode": {
    "name": "ipython",
    "version": 3
   },
   "file_extension": ".py",
   "mimetype": "text/x-python",
   "name": "python",
   "nbconvert_exporter": "python",
   "pygments_lexer": "ipython3",
   "version": "3.9.7"
  }
 },
 "nbformat": 4,
 "nbformat_minor": 5
}
