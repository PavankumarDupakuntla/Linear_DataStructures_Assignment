{
 "cells": [
  {
   "cell_type": "code",
   "execution_count": 3,
   "id": "11562225",
   "metadata": {},
   "outputs": [
    {
     "name": "stdout",
     "output_type": "stream",
     "text": [
      "[1, 2, 3, 4, 5, 6, 7]\n",
      "REVERSED ARRAY\n",
      "[7, 6, 5, 4, 3, 2, 1]\n"
     ]
    }
   ],
   "source": [
    "def ReverseArray(Array, first, last):\n",
    "    while first < last:\n",
    "        Array[first],Array[last] = Array[last],Array[first]\n",
    "        \n",
    "        first += 1\n",
    "        last -= 1\n",
    "        \n",
    "        \n",
    "Array = [1,2,3,4,5,6,7]\n",
    "print(Array)\n",
    "ReverseArray(Array, 0, 6)\n",
    "print(\"REVERSED ARRAY\")\n",
    "print(Array)"
   ]
  },
  {
   "cell_type": "code",
   "execution_count": null,
   "id": "822305a2",
   "metadata": {},
   "outputs": [],
   "source": []
  }
 ],
 "metadata": {
  "kernelspec": {
   "display_name": "Python 3 (ipykernel)",
   "language": "python",
   "name": "python3"
  },
  "language_info": {
   "codemirror_mode": {
    "name": "ipython",
    "version": 3
   },
   "file_extension": ".py",
   "mimetype": "text/x-python",
   "name": "python",
   "nbconvert_exporter": "python",
   "pygments_lexer": "ipython3",
   "version": "3.9.7"
  }
 },
 "nbformat": 4,
 "nbformat_minor": 5
}
